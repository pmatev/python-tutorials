{
 "cells": [
  {
   "cell_type": "code",
   "execution_count": 24,
   "metadata": {
    "collapsed": true
   },
   "outputs": [],
   "source": [
    "import pandas as pd\n",
    "import numpy as np\n",
    "import math\n",
    "from datetime import datetime"
   ]
  },
  {
   "cell_type": "code",
   "execution_count": 21,
   "metadata": {
    "collapsed": false
   },
   "outputs": [],
   "source": [
    "data = pd.read_csv('./spx.csv', index_col=\"Date\")"
   ]
  },
  {
   "cell_type": "code",
   "execution_count": 43,
   "metadata": {
    "collapsed": false
   },
   "outputs": [],
   "source": [
    "data = pd.read_csv('./spx.csv')\n",
    "\n",
    "def get_weekday(date):\n",
    "    return pd.datetools.parse_time_string(date)[0].strftime('%A')\n",
    "\n",
    "func = np.vectorize(get_weekday)\n",
    "data['Weekday'] = pd.Series(func(data['Date']), index=data.index)\n"
   ]
  },
  {
   "cell_type": "code",
   "execution_count": 12,
   "metadata": {
    "collapsed": false
   },
   "outputs": [
    {
     "data": {
      "text/plain": [
       "array([ 0.00401614, -0.01180591, -0.0074073 , ..., -0.0019185 ,\n",
       "        0.03987361,  0.00964117])"
      ]
     },
     "execution_count": 12,
     "metadata": {},
     "output_type": "execute_result"
    }
   ],
   "source": [
    "open_series = data['Open']\n",
    "daily_returns = open_series.pct_change().dropna().values\n",
    "daily_returns"
   ]
  },
  {
   "cell_type": "code",
   "execution_count": 13,
   "metadata": {
    "collapsed": false
   },
   "outputs": [
    {
     "data": {
      "text/plain": [
       "0.012250968105905707"
      ]
     },
     "execution_count": 13,
     "metadata": {},
     "output_type": "execute_result"
    }
   ],
   "source": [
    "historical_vol_daily = np.std(daily_returns,axis=0)  \n",
    "historical_vol_daily"
   ]
  },
  {
   "cell_type": "code",
   "execution_count": 14,
   "metadata": {
    "collapsed": false
   },
   "outputs": [
    {
     "data": {
      "text/plain": [
       "0.19447808956806306"
      ]
     },
     "execution_count": 14,
     "metadata": {},
     "output_type": "execute_result"
    }
   ],
   "source": [
    "historical_vol_annually = historical_vol_daily*math.sqrt(252)\n",
    "historical_vol_annually"
   ]
  },
  {
   "cell_type": "code",
   "execution_count": 60,
   "metadata": {
    "collapsed": false
   },
   "outputs": [
    {
     "data": {
      "text/plain": [
       "2013-09-01   NaN\n",
       "2013-09-02     2\n",
       "2013-09-03    10\n",
       "2013-09-04   NaN\n",
       "2013-09-05   NaN\n",
       "2013-09-06     5\n",
       "2013-09-07     1\n",
       "2013-09-08   NaN\n",
       "2013-09-09   NaN\n",
       "2013-09-10   NaN\n",
       "2013-09-11   NaN\n",
       "2013-09-12   NaN\n",
       "2013-09-13   NaN\n",
       "2013-09-14   NaN\n",
       "2013-09-15   NaN\n",
       "2013-09-16   NaN\n",
       "2013-09-17   NaN\n",
       "2013-09-18   NaN\n",
       "2013-09-19   NaN\n",
       "2013-09-20   NaN\n",
       "Freq: D, dtype: float64"
      ]
     },
     "execution_count": 60,
     "metadata": {},
     "output_type": "execute_result"
    }
   ],
   "source": [
    "s = pd.Series({'09-02-2013': 2,\n",
    "               '09-03-2013': 10,\n",
    "               '09-06-2013': 5,\n",
    "               '09-07-2013': 1})\n",
    "s.index = pd.DatetimeIndex(s.index)\n",
    "\n",
    "idx = pd.date_range('09-01-2013', '09-20-2013')\n",
    "s.reindex(idx, fill_value=np.NaN)"
   ]
  },
  {
   "cell_type": "code",
   "execution_count": 115,
   "metadata": {
    "collapsed": false
   },
   "outputs": [
    {
     "data": {
      "text/plain": [
       "DatetimeIndex([], dtype='datetime64[ns]', freq='3D')"
      ]
     },
     "execution_count": 115,
     "metadata": {},
     "output_type": "execute_result"
    }
   ],
   "source": [
    "data = pd.read_csv('spx.csv')\n",
    "dates = pd.to_datetime(data.Date)\n",
    "indexed = data.set_index(dates)\n",
    "del indexed['Date']\n",
    "\n",
    "new_index = pd.date_range(dates.values[0], dates.values[-1], freq='3D')\n",
    "new_index\n",
    "# indexed.reindex(new_index)"
   ]
  },
  {
   "cell_type": "code",
   "execution_count": 74,
   "metadata": {
    "collapsed": true
   },
   "outputs": [],
   "source": [
    "pd.date_range?"
   ]
  },
  {
   "cell_type": "code",
   "execution_count": null,
   "metadata": {
    "collapsed": true
   },
   "outputs": [],
   "source": []
  }
 ],
 "metadata": {
  "kernelspec": {
   "display_name": "Python 3",
   "language": "python",
   "name": "python3"
  },
  "language_info": {
   "codemirror_mode": {
    "name": "ipython",
    "version": 3
   },
   "file_extension": ".py",
   "mimetype": "text/x-python",
   "name": "python",
   "nbconvert_exporter": "python",
   "pygments_lexer": "ipython3",
   "version": "3.4.2"
  }
 },
 "nbformat": 4,
 "nbformat_minor": 0
}
